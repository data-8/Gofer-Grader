{
 "cells": [
  {
   "cell_type": "code",
   "execution_count": 1,
   "metadata": {},
   "outputs": [],
   "source": [
    "from okgrade import grade\n",
    "from glob import glob\n",
    "import os.path as op\n",
    "from okgrade.notebook import grade_notebook"
   ]
  },
  {
   "cell_type": "markdown",
   "metadata": {},
   "source": [
    "## Grading notebooks with `okgrade`\n",
    "\n",
    "You can also use `okgrade` to grade multiple notebooks at once.\n",
    "The best way to do this is with the `grade_notebook` function.\n",
    "\n",
    "We'll grade two notebooks, one with full marks and another with\n",
    "half marks, and will explore the results below."
   ]
  },
  {
   "cell_type": "code",
   "execution_count": 2,
   "metadata": {},
   "outputs": [
    {
     "name": "stdout",
     "output_type": "stream",
     "text": [
      "['./student_notebooks/student_a.ipynb', './student_notebooks/student_b.ipynb']\n",
      "['./student_tests/q1.py', './student_tests/q2.py']\n"
     ]
    }
   ],
   "source": [
    "# We'll collect all student notebooks, and all test files\n",
    "student_notebooks = glob('./student_notebooks/*.ipynb')\n",
    "test_files = glob('./student_tests/q*.py')\n",
    "\n",
    "print(student_notebooks)\n",
    "print(test_files)"
   ]
  },
  {
   "cell_type": "code",
   "execution_count": 3,
   "metadata": {},
   "outputs": [],
   "source": [
    "# Now, loop through student notebooks, grading each one\n",
    "grades = {}\n",
    "for notebook in student_notebooks:\n",
    "    name = op.basename(notebook).split(\".\")[0]\n",
    "    this_grade = grade_notebook(notebook, test_files)\n",
    "    grades[name] = this_grade.grade"
   ]
  },
  {
   "cell_type": "code",
   "execution_count": 4,
   "metadata": {},
   "outputs": [
    {
     "name": "stdout",
     "output_type": "stream",
     "text": [
      "student_a 100%\n",
      "student_b 50%\n"
     ]
    }
   ],
   "source": [
    "# Print the results of our tests\n",
    "for name, grade in grades.items():\n",
    "    print(name, '{}%'.format(int(grade * 100)))"
   ]
  },
  {
   "cell_type": "code",
   "execution_count": null,
   "metadata": {},
   "outputs": [],
   "source": []
  }
 ],
 "metadata": {
  "kernelspec": {
   "display_name": "Python 3",
   "language": "python",
   "name": "python3"
  },
  "language_info": {
   "codemirror_mode": {
    "name": "ipython",
    "version": 3
   },
   "file_extension": ".py",
   "mimetype": "text/x-python",
   "name": "python",
   "nbconvert_exporter": "python",
   "pygments_lexer": "ipython3",
   "version": "3.6.5"
  }
 },
 "nbformat": 4,
 "nbformat_minor": 2
}
