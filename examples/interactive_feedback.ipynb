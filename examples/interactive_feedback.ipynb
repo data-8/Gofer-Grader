{
 "cells": [
  {
   "cell_type": "code",
   "execution_count": 1,
   "metadata": {},
   "outputs": [],
   "source": [
    "from okgrade import grade"
   ]
  },
  {
   "cell_type": "markdown",
   "metadata": {},
   "source": [
    "## OKgrade interactive example\n",
    "\n",
    "This is a short example to demonstrate the grading functionality of\n",
    "`okgrade`. In this case, we've defined a suite of tests in the file\n",
    "`mytest.ok`. This contains a collection of tests that will be run\n",
    "using the interactive kernel attached to this notebook.\n",
    "\n",
    "**[Here's a link to the tests file we use in this example](seconds.ok)**\n",
    "\n",
    "To demonstrate, we'll first run the test suite without doing anything in this\n",
    "notebook."
   ]
  },
  {
   "cell_type": "code",
   "execution_count": 3,
   "metadata": {},
   "outputs": [
    {
     "data": {
      "text/html": [
       "<pre>Test 2.2 1 failed!\n",
       "\n",
       "Test code:\n",
       "\n",
       "&gt;&gt;&gt; # It looks like you didn&#x27;t give anything the name\n",
       "&gt;&gt;&gt; # seconds_in_a_decade.  Maybe there&#x27;s a typo?\n",
       "&gt;&gt;&gt; &#x27;seconds_in_a_decade&#x27; in vars()\n",
       "True\n",
       "\n",
       "\n",
       "Test result:\n",
       "Trying:\n",
       "    &#x27;seconds_in_a_decade&#x27; in vars()\n",
       "Expecting:\n",
       "    True\n",
       "**********************************************************************\n",
       "Line 4, in 2.2 1\n",
       "Failed example:\n",
       "    &#x27;seconds_in_a_decade&#x27; in vars()\n",
       "Expected:\n",
       "    True\n",
       "Got:\n",
       "    False\n",
       "</pre>"
      ],
      "text/plain": [
       "<okgrade.result.TestResult at 0x7f6924284f28>"
      ]
     },
     "execution_count": 3,
     "metadata": {},
     "output_type": "execute_result"
    }
   ],
   "source": [
    "grade('./seconds.ok')"
   ]
  },
  {
   "cell_type": "markdown",
   "metadata": {},
   "source": [
    "As expected, we got an error because the variable hasn't been defined in this\n",
    "notebook yet.\n",
    "\n",
    "Let's define it and re-run the tests"
   ]
  },
  {
   "cell_type": "code",
   "execution_count": 4,
   "metadata": {},
   "outputs": [],
   "source": [
    "seconds_in_a_decade = True"
   ]
  },
  {
   "cell_type": "code",
   "execution_count": 5,
   "metadata": {},
   "outputs": [
    {
     "data": {
      "text/html": [
       "<pre>Test 2.2 2 failed!\n",
       "\n",
       "Test code:\n",
       "\n",
       "&gt;&gt;&gt; # The number of seconds you computed is too low by at least\n",
       "&gt;&gt;&gt; # a factor of 5.\n",
       "&gt;&gt;&gt; # There are 10 years, some number of days in a year, some\n",
       "&gt;&gt;&gt; # number of hours per day, minutes per hour, and seconds\n",
       "&gt;&gt;&gt; # per minute. For example, this is almost right:\n",
       "&gt;&gt;&gt; #   seconds_in_a_decade = 10*365*24*60*60\n",
       "&gt;&gt;&gt; seconds_in_a_decade &gt; 60000000\n",
       "True\n",
       "\n",
       "\n",
       "Test result:\n",
       "Trying:\n",
       "    seconds_in_a_decade &gt; 60000000\n",
       "Expecting:\n",
       "    True\n",
       "**********************************************************************\n",
       "Line 8, in 2.2 2\n",
       "Failed example:\n",
       "    seconds_in_a_decade &gt; 60000000\n",
       "Expected:\n",
       "    True\n",
       "Got:\n",
       "    False\n",
       "</pre>"
      ],
      "text/plain": [
       "<okgrade.result.TestResult at 0x7f6924284c88>"
      ]
     },
     "execution_count": 5,
     "metadata": {},
     "output_type": "execute_result"
    }
   ],
   "source": [
    "grade('./seconds.ok')"
   ]
  },
  {
   "cell_type": "markdown",
   "metadata": {},
   "source": [
    "Now we've got a different error. The variable exists, so it passed\n",
    "the first test. However, it didn't pass the *next* test. We'll fix\n",
    "this and see if that works."
   ]
  },
  {
   "cell_type": "code",
   "execution_count": 6,
   "metadata": {},
   "outputs": [],
   "source": [
    "seconds_in_a_decade = 10*365*24*60*60"
   ]
  },
  {
   "cell_type": "code",
   "execution_count": 7,
   "metadata": {},
   "outputs": [
    {
     "data": {
      "text/html": [
       "<pre>Test 2.2 3 failed!\n",
       "\n",
       "Test code:\n",
       "\n",
       "&gt;&gt;&gt; # You&#x27;re close! Perhaps you didn&#x27;t account for leap years correctly.\n",
       "&gt;&gt;&gt; # There were 2 leap years and 8 non-leap years in this period.\n",
       "&gt;&gt;&gt; # Leap years have 366 days instead of 365.\n",
       "&gt;&gt;&gt; 315360000 &lt; seconds_in_a_decade &lt; 331344000\n",
       "True\n",
       "\n",
       "\n",
       "Test result:\n",
       "Trying:\n",
       "    315360000 &lt; seconds_in_a_decade &lt; 331344000\n",
       "Expecting:\n",
       "    True\n",
       "**********************************************************************\n",
       "Line 5, in 2.2 3\n",
       "Failed example:\n",
       "    315360000 &lt; seconds_in_a_decade &lt; 331344000\n",
       "Expected:\n",
       "    True\n",
       "Got:\n",
       "    False\n",
       "</pre>"
      ],
      "text/plain": [
       "<okgrade.result.TestResult at 0x7f6924016198>"
      ]
     },
     "execution_count": 7,
     "metadata": {},
     "output_type": "execute_result"
    }
   ],
   "source": [
    "grade('./seconds.ok')"
   ]
  },
  {
   "cell_type": "markdown",
   "metadata": {},
   "source": [
    "Looking at the error message, it seems that the problem is\n",
    "we haven't taken into consideration leap years (of\n",
    "which there are two in a decade)"
   ]
  },
  {
   "cell_type": "code",
   "execution_count": 8,
   "metadata": {},
   "outputs": [],
   "source": [
    "seconds_in_a_decade = (8*365 + 2*366) *24*60*60"
   ]
  },
  {
   "cell_type": "code",
   "execution_count": 9,
   "metadata": {},
   "outputs": [
    {
     "data": {
      "text/html": [
       "<pre>./seconds.ok: All tests passed!</pre>"
      ],
      "text/plain": [
       "<okgrade.result.TestResult at 0x7f6924284eb8>"
      ]
     },
     "execution_count": 9,
     "metadata": {},
     "output_type": "execute_result"
    }
   ],
   "source": [
    "grade('./seconds.ok')"
   ]
  },
  {
   "cell_type": "markdown",
   "metadata": {},
   "source": [
    "Now all of the tests have passed!"
   ]
  },
  {
   "cell_type": "code",
   "execution_count": null,
   "metadata": {},
   "outputs": [],
   "source": []
  }
 ],
 "metadata": {
  "kernelspec": {
   "display_name": "Python 3",
   "language": "python",
   "name": "python3"
  },
  "language_info": {
   "codemirror_mode": {
    "name": "ipython",
    "version": 3
   },
   "file_extension": ".py",
   "mimetype": "text/x-python",
   "name": "python",
   "nbconvert_exporter": "python",
   "pygments_lexer": "ipython3",
   "version": "3.6.5"
  }
 },
 "nbformat": 4,
 "nbformat_minor": 2
}
